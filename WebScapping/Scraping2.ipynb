{
 "cells": [
  {
   "cell_type": "code",
   "execution_count": 46,
   "metadata": {},
   "outputs": [],
   "source": [
    "from bs4 import BeautifulSoup\n",
    "import requests\n",
    "import bs4\n",
    "import pandas as pd\n",
    "from selenium import webdriver"
   ]
  },
  {
   "cell_type": "code",
   "execution_count": 47,
   "metadata": {},
   "outputs": [],
   "source": [
    "driver = webdriver.Chrome()"
   ]
  },
  {
   "cell_type": "code",
   "execution_count": 48,
   "metadata": {},
   "outputs": [],
   "source": [
    "driver.get(\"https://www.gandhi.com.mx/libros/los-mas-leidos\")"
   ]
  },
  {
   "cell_type": "code",
   "execution_count": 49,
   "metadata": {},
   "outputs": [],
   "source": [
    "page = driver.page_source"
   ]
  },
  {
   "cell_type": "code",
   "execution_count": 50,
   "metadata": {},
   "outputs": [],
   "source": [
    "soup = BeautifulSoup(page, 'html.parser')"
   ]
  },
  {
   "cell_type": "code",
   "execution_count": 51,
   "metadata": {},
   "outputs": [
    {
     "data": {
      "text/plain": [
       "['Hijos del Neoliberalismo',\n",
       " 'Carcoma',\n",
       " 'Ideas que transforman negocios para cambiar al mundo',\n",
       " 'El Infierno',\n",
       " 'Gran guía visual del cosmos',\n",
       " 'Mapas corporales',\n",
       " 'Vivienda colectiva en México',\n",
       " 'El futuro de la libertad de expresión',\n",
       " 'Para una teología política del crimen organizado',\n",
       " 'Una historia en cada hijo te dio',\n",
       " 'No nos dejes caer en tentación',\n",
       " 'Cuentos gatunos',\n",
       " 'Algún tiempo atrás',\n",
       " 'Las indignas',\n",
       " 'El infinito en un junco',\n",
       " 'El pacto del agua',\n",
       " 'Autofagia',\n",
       " 'La profecía del rayo y las estrellas',\n",
       " 'Voces en la sombra',\n",
       " 'El indio Victoriano',\n",
       " '¡Salte con la tuya!',\n",
       " 'El camino de la escritura',\n",
       " 'Los Divagantes',\n",
       " 'Cocinología',\n",
       " 'Escenas de un pensamiento incómodo',\n",
       " 'El problema final',\n",
       " 'El desertor',\n",
       " 'La mesa herida',\n",
       " 'Le dedico mi silencio',\n",
       " 'Por amor a mi',\n",
       " 'Las señoras del narco',\n",
       " 'TAO TE CHING',\n",
       " '¡Luis y Caro vs los fantasmas de la ciudad!',\n",
       " 'Aventuras malvadas de una superheroína',\n",
       " 'En tú única vida ¿de que no te quieres perder?',\n",
       " 'Poemas de las Letras Hispánicas',\n",
       " 'Pedro Páramo',\n",
       " 'Confiar e Inspirar',\n",
       " 'Las damas del poder',\n",
       " 'Hombres de gobierno']"
      ]
     },
     "execution_count": 51,
     "metadata": {},
     "output_type": "execute_result"
    }
   ],
   "source": [
    "items_title = soup.find_all('strong', class_='product name product-item-name')\n",
    "\n",
    "titles = []\n",
    "for item in items_title:\n",
    "    title = item.find('a').text.strip()\n",
    "    titles.append(title)\n",
    "titles"
   ]
  },
  {
   "cell_type": "code",
   "execution_count": 52,
   "metadata": {},
   "outputs": [
    {
     "data": {
      "text/plain": [
       "['Ana Lilia Pérez',\n",
       " 'Layla Martínez',\n",
       " 'Ricardo Benjamín Salinas Pliego',\n",
       " 'Carmen Mola',\n",
       " 'Toshifumi Fumatase',\n",
       " 'Claudia De La Garza',\n",
       " 'Fernanda Canales',\n",
       " 'Saúl López Noriega',\n",
       " 'Claudio Lomnitz',\n",
       " 'Gerardo Australia',\n",
       " 'Saskia Niño de Rivera Cover',\n",
       " 'H. P. Lovecraft',\n",
       " 'Sergio Marchi',\n",
       " 'Agustina Bazterrica',\n",
       " 'Tyto Alba Vallejo Irene',\n",
       " 'Abraham Verghese',\n",
       " 'Alaide Ventura Medina',\n",
       " 'Rick Riordan',\n",
       " 'Beatriz Rivas',\n",
       " 'Gustavo Vázquez',\n",
       " 'Alvaro Gordoa',\n",
       " 'Julia Cameron',\n",
       " 'Guadalupe Nettel',\n",
       " 'Dorling Kindersley',\n",
       " 'Rita Segato',\n",
       " 'Arturo Pérez-Reverte',\n",
       " 'Abdulrazak Gurnah',\n",
       " 'Laura Martínez-Belli',\n",
       " 'Mario Vargas Llosa',\n",
       " 'Alma Gabriela Lozano Zendejas',\n",
       " 'Anabel Hernández',\n",
       " 'LAO TSE',\n",
       " 'Chuy Campos / Veka G. Duncan',\n",
       " 'Vania Bachur',\n",
       " 'Odin Duperyon',\n",
       " 'Varios autores',\n",
       " 'Juan Rulfo',\n",
       " 'Stephen M. R. Covey',\n",
       " 'Francisco Cruz',\n",
       " 'Gerardo Laveaga']"
      ]
     },
     "execution_count": 52,
     "metadata": {},
     "output_type": "execute_result"
    }
   ],
   "source": [
    "items_author = soup.find_all('div', class_='autor')\n",
    "\n",
    "autores = []\n",
    "for item in items_author:\n",
    "    autor = item.find('a').text.strip()\n",
    "    autores.append(autor)\n",
    "autores"
   ]
  },
  {
   "cell_type": "code",
   "execution_count": 53,
   "metadata": {},
   "outputs": [
    {
     "data": {
      "text/plain": [
       "['$369',\n",
       " '$299',\n",
       " '$299',\n",
       " '$379',\n",
       " '$379',\n",
       " '$429',\n",
       " '$429',\n",
       " '$429',\n",
       " '$239',\n",
       " '$239',\n",
       " '$299',\n",
       " '$279',\n",
       " '$240',\n",
       " '$398',\n",
       " '$469',\n",
       " '$399',\n",
       " '$520',\n",
       " '$261',\n",
       " '$279',\n",
       " '$399',\n",
       " '$299',\n",
       " '$229',\n",
       " '$499',\n",
       " '$249',\n",
       " '$349',\n",
       " '$549',\n",
       " '$269',\n",
       " '$399',\n",
       " '$329',\n",
       " '$489',\n",
       " '$349',\n",
       " '$299',\n",
       " '$320',\n",
       " '$599',\n",
       " '$420',\n",
       " '$399',\n",
       " '$349',\n",
       " '$348',\n",
       " '$329',\n",
       " '$199',\n",
       " '$369',\n",
       " '$199',\n",
       " '$229',\n",
       " '$249',\n",
       " '$334',\n",
       " '$254',\n",
       " '$254',\n",
       " '$349',\n",
       " '$298',\n",
       " '$349']"
      ]
     },
     "execution_count": 53,
     "metadata": {},
     "output_type": "execute_result"
    }
   ],
   "source": [
    "items_price = soup.find_all('span', {'data-price-type': 'finalPrice'})\n",
    "\n",
    "precios = []\n",
    "for item in items_price:\n",
    "    precio_element = item.find('span', class_='price')\n",
    "    precio = precio_element.text.strip()\n",
    "    precios.append(precio)\n",
    "precios"
   ]
  },
  {
   "cell_type": "code",
   "execution_count": 54,
   "metadata": {},
   "outputs": [
    {
     "data": {
      "text/plain": [
       "(40, 40, 50)"
      ]
     },
     "execution_count": 54,
     "metadata": {},
     "output_type": "execute_result"
    }
   ],
   "source": [
    "len(titles), len(autores), len(precios)"
   ]
  },
  {
   "cell_type": "code",
   "execution_count": 55,
   "metadata": {},
   "outputs": [],
   "source": [
    "dic = {\n",
    "    'titulo': titles,\n",
    "    'autor': autores,\n",
    "    'precio': precios\n",
    "}"
   ]
  },
  {
   "cell_type": "code",
   "execution_count": 56,
   "metadata": {},
   "outputs": [
    {
     "data": {
      "text/plain": [
       "{'titulo': ['Hijos del Neoliberalismo',\n",
       "  'Carcoma',\n",
       "  'Ideas que transforman negocios para cambiar al mundo',\n",
       "  'El Infierno',\n",
       "  'Gran guía visual del cosmos',\n",
       "  'Mapas corporales',\n",
       "  'Vivienda colectiva en México',\n",
       "  'El futuro de la libertad de expresión',\n",
       "  'Para una teología política del crimen organizado',\n",
       "  'Una historia en cada hijo te dio',\n",
       "  'No nos dejes caer en tentación',\n",
       "  'Cuentos gatunos',\n",
       "  'Algún tiempo atrás',\n",
       "  'Las indignas',\n",
       "  'El infinito en un junco',\n",
       "  'El pacto del agua',\n",
       "  'Autofagia',\n",
       "  'La profecía del rayo y las estrellas',\n",
       "  'Voces en la sombra',\n",
       "  'El indio Victoriano',\n",
       "  '¡Salte con la tuya!',\n",
       "  'El camino de la escritura',\n",
       "  'Los Divagantes',\n",
       "  'Cocinología',\n",
       "  'Escenas de un pensamiento incómodo',\n",
       "  'El problema final',\n",
       "  'El desertor',\n",
       "  'La mesa herida',\n",
       "  'Le dedico mi silencio',\n",
       "  'Por amor a mi',\n",
       "  'Las señoras del narco',\n",
       "  'TAO TE CHING',\n",
       "  '¡Luis y Caro vs los fantasmas de la ciudad!',\n",
       "  'Aventuras malvadas de una superheroína',\n",
       "  'En tú única vida ¿de que no te quieres perder?',\n",
       "  'Poemas de las Letras Hispánicas',\n",
       "  'Pedro Páramo',\n",
       "  'Confiar e Inspirar',\n",
       "  'Las damas del poder',\n",
       "  'Hombres de gobierno'],\n",
       " 'autor': ['Ana Lilia Pérez',\n",
       "  'Layla Martínez',\n",
       "  'Ricardo Benjamín Salinas Pliego',\n",
       "  'Carmen Mola',\n",
       "  'Toshifumi Fumatase',\n",
       "  'Claudia De La Garza',\n",
       "  'Fernanda Canales',\n",
       "  'Saúl López Noriega',\n",
       "  'Claudio Lomnitz',\n",
       "  'Gerardo Australia',\n",
       "  'Saskia Niño de Rivera Cover',\n",
       "  'H. P. Lovecraft',\n",
       "  'Sergio Marchi',\n",
       "  'Agustina Bazterrica',\n",
       "  'Tyto Alba Vallejo Irene',\n",
       "  'Abraham Verghese',\n",
       "  'Alaide Ventura Medina',\n",
       "  'Rick Riordan',\n",
       "  'Beatriz Rivas',\n",
       "  'Gustavo Vázquez',\n",
       "  'Alvaro Gordoa',\n",
       "  'Julia Cameron',\n",
       "  'Guadalupe Nettel',\n",
       "  'Dorling Kindersley',\n",
       "  'Rita Segato',\n",
       "  'Arturo Pérez-Reverte',\n",
       "  'Abdulrazak Gurnah',\n",
       "  'Laura Martínez-Belli',\n",
       "  'Mario Vargas Llosa',\n",
       "  'Alma Gabriela Lozano Zendejas',\n",
       "  'Anabel Hernández',\n",
       "  'LAO TSE',\n",
       "  'Chuy Campos / Veka G. Duncan',\n",
       "  'Vania Bachur',\n",
       "  'Odin Duperyon',\n",
       "  'Varios autores',\n",
       "  'Juan Rulfo',\n",
       "  'Stephen M. R. Covey',\n",
       "  'Francisco Cruz',\n",
       "  'Gerardo Laveaga'],\n",
       " 'precio': ['$369',\n",
       "  '$299',\n",
       "  '$299',\n",
       "  '$379',\n",
       "  '$379',\n",
       "  '$429',\n",
       "  '$429',\n",
       "  '$429',\n",
       "  '$239',\n",
       "  '$239',\n",
       "  '$299',\n",
       "  '$279',\n",
       "  '$240',\n",
       "  '$398',\n",
       "  '$469',\n",
       "  '$399',\n",
       "  '$520',\n",
       "  '$261',\n",
       "  '$279',\n",
       "  '$399',\n",
       "  '$299',\n",
       "  '$229',\n",
       "  '$499',\n",
       "  '$249',\n",
       "  '$349',\n",
       "  '$549',\n",
       "  '$269',\n",
       "  '$399',\n",
       "  '$329',\n",
       "  '$489',\n",
       "  '$349',\n",
       "  '$299',\n",
       "  '$320',\n",
       "  '$599',\n",
       "  '$420',\n",
       "  '$399',\n",
       "  '$349',\n",
       "  '$348',\n",
       "  '$329',\n",
       "  '$199',\n",
       "  '$369',\n",
       "  '$199',\n",
       "  '$229',\n",
       "  '$249',\n",
       "  '$334',\n",
       "  '$254',\n",
       "  '$254',\n",
       "  '$349',\n",
       "  '$298',\n",
       "  '$349']}"
      ]
     },
     "execution_count": 56,
     "metadata": {},
     "output_type": "execute_result"
    }
   ],
   "source": [
    "dic"
   ]
  },
  {
   "cell_type": "code",
   "execution_count": null,
   "metadata": {},
   "outputs": [],
   "source": []
  }
 ],
 "metadata": {
  "kernelspec": {
   "display_name": "Python 3",
   "language": "python",
   "name": "python3"
  },
  "language_info": {
   "codemirror_mode": {
    "name": "ipython",
    "version": 3
   },
   "file_extension": ".py",
   "mimetype": "text/x-python",
   "name": "python",
   "nbconvert_exporter": "python",
   "pygments_lexer": "ipython3",
   "version": "3.11.5"
  }
 },
 "nbformat": 4,
 "nbformat_minor": 2
}
