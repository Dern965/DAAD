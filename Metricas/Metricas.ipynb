{
 "cells": [
  {
   "cell_type": "markdown",
   "id": "aa3fdcc0",
   "metadata": {},
   "source": [
    "## Recall o Sensibilidad "
   ]
  },
  {
   "cell_type": "markdown",
   "id": "980f935e",
   "metadata": {},
   "source": [
    "El Recall, también conocido como Sensibilidad o Tasa Positiva Verdadera (TPR por sus siglas en inglés, True Positive Rate), es una métrica de desempeño utilizada en problemas de clasificación. Se enfoca en evaluar la capacidad de un modelo para identificar correctamente todos los casos positivos en el conjunto de datos."
   ]
  },
  {
   "cell_type": "markdown",
   "id": "ec2c0e3a",
   "metadata": {},
   "source": [
    "Supongamos que tenemos un modelo de clasificación binaria que predice si un correo electrónico es spam o no spam. Tenemos un conjunto de 1000 correos electrónicos para evaluar el desempeño de nuestro modelo, y hemos obtenido las siguientes predicciones y etiquetas reales:\n",
    "\n",
    "- Verdaderos Positivos (TP): 150 correos electrónicos fueron correctamente clasificados como spam.\n",
    "- Verdaderos Negativos (TN): 700 correos electrónicos fueron correctamente clasificados como no spam (ham).\n",
    "- Falsos Positivos (FP): 50 correos electrónicos fueron incorrectamente clasificados como spam cuando eran en realidad no spam (falsas alarmas).\n",
    "- Falsos Negativos (FN): 100 correos electrónicos fueron incorrectamente clasificados como no spam cuando eran en realidad spam (correos importantes que se ignoraron)."
   ]
  },
  {
   "cell_type": "code",
   "execution_count": 1,
   "id": "f1cc07ef",
   "metadata": {},
   "outputs": [
    {
     "data": {
      "text/html": [
       "<div>\n",
       "<style scoped>\n",
       "    .dataframe tbody tr th:only-of-type {\n",
       "        vertical-align: middle;\n",
       "    }\n",
       "\n",
       "    .dataframe tbody tr th {\n",
       "        vertical-align: top;\n",
       "    }\n",
       "\n",
       "    .dataframe thead th {\n",
       "        text-align: right;\n",
       "    }\n",
       "</style>\n",
       "<table border=\"1\" class=\"dataframe\">\n",
       "  <thead>\n",
       "    <tr style=\"text-align: right;\">\n",
       "      <th></th>\n",
       "      <th>Prediccion</th>\n",
       "      <th>Real</th>\n",
       "    </tr>\n",
       "  </thead>\n",
       "  <tbody>\n",
       "    <tr>\n",
       "      <th>0</th>\n",
       "      <td>1</td>\n",
       "      <td>1</td>\n",
       "    </tr>\n",
       "    <tr>\n",
       "      <th>1</th>\n",
       "      <td>1</td>\n",
       "      <td>1</td>\n",
       "    </tr>\n",
       "    <tr>\n",
       "      <th>2</th>\n",
       "      <td>1</td>\n",
       "      <td>1</td>\n",
       "    </tr>\n",
       "    <tr>\n",
       "      <th>3</th>\n",
       "      <td>1</td>\n",
       "      <td>1</td>\n",
       "    </tr>\n",
       "    <tr>\n",
       "      <th>4</th>\n",
       "      <td>1</td>\n",
       "      <td>1</td>\n",
       "    </tr>\n",
       "    <tr>\n",
       "      <th>...</th>\n",
       "      <td>...</td>\n",
       "      <td>...</td>\n",
       "    </tr>\n",
       "    <tr>\n",
       "      <th>995</th>\n",
       "      <td>0</td>\n",
       "      <td>1</td>\n",
       "    </tr>\n",
       "    <tr>\n",
       "      <th>996</th>\n",
       "      <td>0</td>\n",
       "      <td>1</td>\n",
       "    </tr>\n",
       "    <tr>\n",
       "      <th>997</th>\n",
       "      <td>0</td>\n",
       "      <td>1</td>\n",
       "    </tr>\n",
       "    <tr>\n",
       "      <th>998</th>\n",
       "      <td>0</td>\n",
       "      <td>1</td>\n",
       "    </tr>\n",
       "    <tr>\n",
       "      <th>999</th>\n",
       "      <td>0</td>\n",
       "      <td>1</td>\n",
       "    </tr>\n",
       "  </tbody>\n",
       "</table>\n",
       "<p>1000 rows × 2 columns</p>\n",
       "</div>"
      ],
      "text/plain": [
       "     Prediccion  Real\n",
       "0             1     1\n",
       "1             1     1\n",
       "2             1     1\n",
       "3             1     1\n",
       "4             1     1\n",
       "..          ...   ...\n",
       "995           0     1\n",
       "996           0     1\n",
       "997           0     1\n",
       "998           0     1\n",
       "999           0     1\n",
       "\n",
       "[1000 rows x 2 columns]"
      ]
     },
     "execution_count": 1,
     "metadata": {},
     "output_type": "execute_result"
    }
   ],
   "source": [
    "import pandas as pd\n",
    "from sklearn.metrics import recall_score\n",
    "\n",
    "data = {\n",
    "    'Prediccion': [1] * 150 + [0] * 700 + [1] * 50 + [0] * 100,\n",
    "    'Real': [1] * 150 + [0] * 700 + [0] * 50 + [1] * 100\n",
    "}\n",
    "df = pd.DataFrame(data)\n",
    "df"
   ]
  },
  {
   "cell_type": "code",
   "execution_count": 2,
   "id": "e584820a",
   "metadata": {},
   "outputs": [
    {
     "name": "stdout",
     "output_type": "stream",
     "text": [
      "Recall score: 0.6\n"
     ]
    }
   ],
   "source": [
    "recall = recall_score(df.Real, df.Prediccion)\n",
    "print('Recall score:', recall)"
   ]
  },
  {
   "cell_type": "markdown",
   "id": "ca288686",
   "metadata": {},
   "source": [
    "\n",
    "### Recall = $\\frac{{Verdaderos Positivos (TP)}}{{Verdaderos Positivos (TP) + Falsos Negativos (FN)}}$\n",
    "\n",
    "\n",
    "### Recall = $\\frac{150}{150 + 100} = \\frac{150}{250} = 0.6$\n",
    "\n",
    "Esto significa que el modelo tiene un Recall de 0.6, lo que indica que es capaz de identificar correctamente el 60% de todos los correos electrónicos que eran realmente spam."
   ]
  },
  {
   "cell_type": "markdown",
   "id": "a1d5a725",
   "metadata": {},
   "source": [
    "![TPR](TPR.jpeg)"
   ]
  },
  {
   "cell_type": "markdown",
   "id": "8f9a532f",
   "metadata": {},
   "source": [
    "## Especificidad o TNR (Tasa Negativa Verdadera)"
   ]
  },
  {
   "cell_type": "markdown",
   "id": "0d9d66e7",
   "metadata": {},
   "source": [
    "La especificidad (tasa de verdaderos negativos) mide la proporción de negativos que se identifican correctamente (es decir, la proporción de aquellos que no tienen la afección (no afectados) que se identifican correctamente como personas que no padecen la afección).\n",
    "\n",
    "Usando el ejemplo anterior tenemos que:"
   ]
  },
  {
   "cell_type": "code",
   "execution_count": 6,
   "id": "7733c059",
   "metadata": {},
   "outputs": [
    {
     "name": "stdout",
     "output_type": "stream",
     "text": [
      "TNR (Especificidad): 0.9333333333333333\n"
     ]
    }
   ],
   "source": [
    "TP = 150\n",
    "TN = 700\n",
    "FP = 50\n",
    "\n",
    "# Calcular el TNR (Especificidad)\n",
    "tnr = TN / (TN + FP)\n",
    "\n",
    "print(\"TNR (Especificidad):\", tnr)"
   ]
  },
  {
   "cell_type": "markdown",
   "id": "84415c48",
   "metadata": {},
   "source": [
    "### TNR = $\\frac{{Verdadero Negativo (TN)}}{{Verdadero Negativo (TN) + Falsos Positivos (FP)}}$\n",
    "### TNR = $\\frac{{700}}{{700 + 50}} = \\frac{700}{750} = 0.933333$\n",
    "\n",
    "Esto significa que el modelo clasificó correctamente aproximadamente el 93.33% de los correos electrónicos no spam como no spam y cometió errores de falsa alarma en aproximadamente el 6.67% de los casos."
   ]
  },
  {
   "cell_type": "markdown",
   "id": "b70ec603",
   "metadata": {},
   "source": [
    "![TNR](TNR.png)"
   ]
  }
 ],
 "metadata": {
  "kernelspec": {
   "display_name": "Python 3 (ipykernel)",
   "language": "python",
   "name": "python3"
  },
  "language_info": {
   "codemirror_mode": {
    "name": "ipython",
    "version": 3
   },
   "file_extension": ".py",
   "mimetype": "text/x-python",
   "name": "python",
   "nbconvert_exporter": "python",
   "pygments_lexer": "ipython3",
   "version": "3.11.5"
  }
 },
 "nbformat": 4,
 "nbformat_minor": 5
}
