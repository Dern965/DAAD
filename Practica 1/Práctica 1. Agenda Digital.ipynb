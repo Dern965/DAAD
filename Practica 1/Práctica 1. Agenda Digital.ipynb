{
 "cells": [
  {
   "cell_type": "markdown",
   "metadata": {},
   "source": [
    "# Desarrollo de aplicaciones para análisis de datos"
   ]
  },
  {
   "cell_type": "markdown",
   "metadata": {},
   "source": [
    "Crear una agenda digital en la que puedas almacenar y consultar tus contactos."
   ]
  },
  {
   "cell_type": "markdown",
   "metadata": {},
   "source": [
    "### 1. Implementa la agenda digital y los contactos"
   ]
  },
  {
   "cell_type": "markdown",
   "metadata": {},
   "source": [
    "Lo primero que debemos hacer para implementar nuestra agenda digital es seleccionar la estructura de datos que va a almacenar los contactos de la misma."
   ]
  },
  {
   "cell_type": "markdown",
   "metadata": {},
   "source": [
    "<div style=\"background-color:#D9EEFF;color:black;padding:2%;\">\n",
    "Crea un diccionario que represente la agenda digital. Dentro de ese diccionario, crea otro diccionario por cada uno de los contactos que quieras almacenar en ella. Los contactos deben tener, al menos, los siguientes atributos: Nombre, dirección, email y teléfono.\n",
    "</div>"
   ]
  },
  {
   "cell_type": "markdown",
   "metadata": {},
   "source": [
    "**Pista:** Utiliza algo característico de cada contacto como clave del primer diccionario, por ejemplo, su nombre completo."
   ]
  },
  {
   "cell_type": "code",
   "execution_count": null,
   "metadata": {},
   "outputs": [],
   "source": []
  },
  {
   "cell_type": "markdown",
   "metadata": {},
   "source": [
    "### 2. Guarda la agenda digital en un archivo"
   ]
  },
  {
   "cell_type": "markdown",
   "metadata": {},
   "source": [
    "Una vez que hemos implementado nuestra agenda digital en Python, necesitamos establecer un mecanismo para almacenar esta información. De esta manera, la información que almacenemos en la agenda no se perderá cuando finalice la ejecución del programa."
   ]
  },
  {
   "cell_type": "markdown",
   "metadata": {},
   "source": [
    "<div style=\"background-color:#D9EEFF;color:black;padding:2%;\">\n",
    "Implementa una función en Python que permita escribir la agenda digital que has representado en el apartado anterior como un diccionario.\n",
    "</div>"
   ]
  },
  {
   "cell_type": "markdown",
   "metadata": {},
   "source": [
    "**Pista:** Entre las funciones por defecto que veíamos en secciones anteriores, existe una función `open()` que nos permite realizar operaciones de lectura y escritura de archivos."
   ]
  },
  {
   "cell_type": "code",
   "execution_count": null,
   "metadata": {},
   "outputs": [],
   "source": []
  },
  {
   "cell_type": "markdown",
   "metadata": {},
   "source": [
    "**Pista 2**: Una vez que hayas leído el archivo en el que vas a escribir tu agenda digital utilizando la función `open()` y se lo hayas asignado a una variable `agenda_archivo`, utiliza el método `agenda_archivo.write()` para escribir el diccionario en el archivo."
   ]
  },
  {
   "cell_type": "code",
   "execution_count": null,
   "metadata": {},
   "outputs": [],
   "source": [
    "# Esta sentencia escribe el diccionario en el archivo\n",
    "agenda_archivo.write(str(agenda_digital))\n",
    "\n",
    "# Esta sentencia cierra el archivo que has abierto con la funcion open()\n",
    "agenda_archivo.close()"
   ]
  },
  {
   "cell_type": "markdown",
   "metadata": {},
   "source": [
    "**Pista 3**: Recuerda que debes escribir una función, te recomiendo que tu función tenga una definición similar a la siguiente:\n",
    "```\n",
    "def escribir_agenda(nombre_agenda, agenda_digital):\n",
    "    <sentencias que escriben la agenda digital>\n",
    "```"
   ]
  },
  {
   "cell_type": "code",
   "execution_count": null,
   "metadata": {},
   "outputs": [],
   "source": []
  },
  {
   "cell_type": "markdown",
   "metadata": {},
   "source": [
    "### 3. Lee la agenda digital de un archivo"
   ]
  },
  {
   "cell_type": "markdown",
   "metadata": {},
   "source": [
    "Ahora que ya hemos definido como va a ser nuestra agenda digital y hemos implementado una función para escribirla y no perder la información que guardamos en ella, lo siguiente que debemos hacer es escribir otra función que nos permita leer ese archivo cada vez que queramos consultar algún contacto."
   ]
  },
  {
   "cell_type": "markdown",
   "metadata": {},
   "source": [
    "<div style=\"background-color:#D9EEFF;color:black;padding:2%;\">\n",
    "Implementa una función en Python que nos permita leer el archivo en el que has escrito la agenda digital y has almacenado en el apartado anterior.\n",
    "</div>"
   ]
  },
  {
   "cell_type": "markdown",
   "metadata": {},
   "source": [
    "**Pista:** La función por defecto `open()` nos permite proporcionarle varios argumentos, entre los que se encuentra uno que nos permite leer un archivo en modo lectura"
   ]
  },
  {
   "cell_type": "code",
   "execution_count": null,
   "metadata": {},
   "outputs": [],
   "source": []
  },
  {
   "cell_type": "markdown",
   "metadata": {},
   "source": [
    "**Pista 2**: Una vez que hayas leído el archivo en el que se encuentra tu agenda digital utilizando la función `open()` y se lo hayas asignado a una variable `agenda_digital_lectura`, utiliza el método `agenda_digital_lectura.readlines()` para leer todas las líneas del archivos."
   ]
  },
  {
   "cell_type": "code",
   "execution_count": null,
   "metadata": {},
   "outputs": [],
   "source": [
    "# Esta sentencia lee todas las líneas del archivo y las asigna a la variable agenda_digital\n",
    "agenda_digital = agenda_digital_lectura.readlines()\n",
    "\n",
    "# Esta sentencia cierra el archivo que has abierto con la función open()\n",
    "agenda_digital_lectura.close()"
   ]
  },
  {
   "cell_type": "markdown",
   "metadata": {},
   "source": [
    "Comprueba la información que se encuentra en la variable `agenda_digital`. \n",
    "* ¿Qué tipo de dato es? \n",
    "* ¿En qué posición se encuentra el diccionario que representa tu agenda? \n",
    "* ¿Qué tipo de dato es este diccionario? ¿Puedes acceder a sus claves?"
   ]
  },
  {
   "cell_type": "code",
   "execution_count": null,
   "metadata": {},
   "outputs": [],
   "source": []
  },
  {
   "cell_type": "markdown",
   "metadata": {},
   "source": [
    "**Pista 3**: Como habrás podido observar, el diccionario que representa nuestra agenda digital, cuando lo hemos leído con la función `open()` a partir del archivo en el que se encontraba almacenado viene representado con tipo `str`. Conviértelo de nuevo en un diccionario, para ello, apoyate de la función de Python `eval()`."
   ]
  },
  {
   "cell_type": "code",
   "execution_count": null,
   "metadata": {},
   "outputs": [],
   "source": []
  },
  {
   "cell_type": "markdown",
   "metadata": {},
   "source": [
    "**Pista 4**: Recuerda que debes escribir una función, te recomiendo que tu función tenga una definición similar a la siguiente:\n",
    "```\n",
    "def leer_agenda(nombre_agenda):\n",
    "    <sentencias que leen la agenda digital>\n",
    "```"
   ]
  },
  {
   "cell_type": "code",
   "execution_count": null,
   "metadata": {},
   "outputs": [],
   "source": []
  },
  {
   "cell_type": "markdown",
   "metadata": {},
   "source": [
    "### 4. Crea un menu para introducir un nombre en la agenda"
   ]
  },
  {
   "cell_type": "markdown",
   "metadata": {},
   "source": [
    "Ahora que tenemos funciones para escribir y leer la agenda de un archivo que se encuentra almacenado, necesitamos una función que nos permita crear nuevos contactos dentro de nuestra agenda."
   ]
  },
  {
   "cell_type": "markdown",
   "metadata": {},
   "source": [
    "<div style=\"background-color:#D9EEFF;color:black;padding:2%;\">\n",
    "Crea una función en Python que solicite los datos de un nuevo contacto de la agenda por pantalla al usuario y cree una nueva entrada en nuestra agenda digital\n",
    "</div>"
   ]
  },
  {
   "cell_type": "markdown",
   "metadata": {},
   "source": [
    "**Pista:** Divide este apartado en dos funciones. En la primera función implementa el código que solicite al usuario por pantalla los campos necesarios para un nuevo contacto de la agenda. En la segunda función, implementa el código necesario para crear este nuevo contacto en la agenda digital. Te recomiendo que las funciones tengan una definición similar a la siguiente:\n",
    "\n",
    "```\n",
    "def solicitar_contacto_agenda():\n",
    "    <sentencias que solicitan los datos de un nuevo contacto>\n",
    "```\n",
    "\n",
    "```\n",
    "def crear_contacto(agenda_digital, nuevo_contacto):\n",
    "    <sentencias que crean el nuevo contacto en la agenda digital>\n",
    "```"
   ]
  },
  {
   "cell_type": "code",
   "execution_count": null,
   "metadata": {},
   "outputs": [],
   "source": []
  },
  {
   "cell_type": "markdown",
   "metadata": {},
   "source": [
    "### 5. Crea un menu para consultar un nombre de la agenda"
   ]
  },
  {
   "cell_type": "markdown",
   "metadata": {},
   "source": [
    "Implementa una funcionalidad más en la agenda que nos permita leer los datos relativos a un contacto existente."
   ]
  },
  {
   "cell_type": "markdown",
   "metadata": {},
   "source": [
    "<div style=\"background-color:#D9EEFF;color:black;padding:2%;\">\n",
    "Implementa una función en Python que solicte por pantalla el nombre completo de un contacto de la agenda y, a partir de ese nombre, nos proporcione el resto de información: dirección, email y teléfono...\n",
    "</div>"
   ]
  },
  {
   "cell_type": "code",
   "execution_count": null,
   "metadata": {},
   "outputs": [],
   "source": []
  },
  {
   "cell_type": "markdown",
   "metadata": {},
   "source": [
    "### 6. Pon todo en común"
   ]
  },
  {
   "cell_type": "markdown",
   "metadata": {},
   "source": [
    "<div style=\"background-color:#D9EEFF;color:black;padding:2%;\">\n",
    "Pon en común todas las funciones que has implementado en las secciones anteriores para mostrar la funcionalidad de tu agenda digital.\n",
    "</div>"
   ]
  },
  {
   "cell_type": "markdown",
   "metadata": {},
   "source": [
    "#### 6.1. Crea un nuevo contacto en la agenda"
   ]
  },
  {
   "cell_type": "markdown",
   "metadata": {},
   "source": [
    "1. Lee la agenda digital\n",
    "2. Solicita los datos de un nuevo contacto por pantalla al usuario\n",
    "3. Crea un nuevo contacto en la agenda digital\n",
    "4. Escribe la agenda resultante"
   ]
  },
  {
   "cell_type": "code",
   "execution_count": null,
   "metadata": {},
   "outputs": [],
   "source": []
  },
  {
   "cell_type": "markdown",
   "metadata": {},
   "source": [
    "#### 6.2. Consulta un contacto existente de la agenda digital"
   ]
  },
  {
   "cell_type": "markdown",
   "metadata": {},
   "source": [
    "1. Lee la agenda digital\n",
    "2. Consulta un contacto existente"
   ]
  },
  {
   "cell_type": "code",
   "execution_count": null,
   "metadata": {},
   "outputs": [],
   "source": []
  }
 ],
 "metadata": {
  "kernelspec": {
   "display_name": "Python 3",
   "language": "python",
   "name": "python3"
  },
  "language_info": {
   "codemirror_mode": {
    "name": "ipython",
    "version": 3
   },
   "file_extension": ".py",
   "mimetype": "text/x-python",
   "name": "python",
   "nbconvert_exporter": "python",
   "pygments_lexer": "ipython3",
   "version": "3.8.5"
  }
 },
 "nbformat": 4,
 "nbformat_minor": 4
}
